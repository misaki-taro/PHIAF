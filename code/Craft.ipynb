{
 "cells": [
  {
   "cell_type": "markdown",
   "metadata": {},
   "source": [
    "# 测试Attention block"
   ]
  },
  {
   "cell_type": "code",
   "execution_count": null,
   "metadata": {},
   "outputs": [],
   "source": [
    "import numpy as np\n",
    "np.random.seed(1)\n",
    "import tensorflow as tf\n",
    "tf.set_random_seed(1234)\n",
    "from keras.layers import *\n",
    "from keras.models import *\n",
    "from keras.optimizers import Adam\n",
    "from keras.regularizers import l1, l2\n",
    "from keras import backend as K\n",
    "from keras.engine.topology import Layer, InputSpec\n",
    "from keras import initializers\n",
    "import scipy.sparse as sp\n",
    "import keras.backend as K\n",
    "\n",
    "def attention_3d_block(inputs):\n",
    "    input_dim = int(inputs.shape[2])\n",
    "    a = Permute((1, 2))(inputs)\n",
    "    a = Dense(32, activation='softmax')(a)\n",
    "    a_probs = Permute((1, 2))(a)\n",
    "    output_attention_mul = Multiply()([inputs, a_probs])\n",
    "    return output_attention_mul"
   ]
  },
  {
   "cell_type": "markdown",
   "metadata": {},
   "source": [
    "# Keras 基本操作\n",
    "- 转换tensor: `tf.convert_to_tensor`\n",
    "- 打印tensor值: `keras.backend.get_value`"
   ]
  },
  {
   "cell_type": "code",
   "execution_count": null,
   "metadata": {},
   "outputs": [],
   "source": [
    "bs = 3\n",
    "h = 2\n",
    "w = 2\n",
    "channels = 6\n",
    "a = np.random.randint(low=0, high=10, size=(bs,h,w,channels)).astype(float) # batch_size, height, weight, channels\n",
    "y = np.random.randint(low=0, high=2, size=bs)"
   ]
  },
  {
   "cell_type": "code",
   "execution_count": null,
   "metadata": {},
   "outputs": [],
   "source": [
    "a"
   ]
  },
  {
   "cell_type": "code",
   "execution_count": null,
   "metadata": {},
   "outputs": [],
   "source": [
    "inputs = Input(shape=(h,w,channels))\n",
    "x = Reshape((-1,channels))(inputs)\n",
    "x = Permute((1,2))(x)\n",
    "x = Softmax()(x)\n",
    "output1 = (x)\n",
    "\n",
    "model = Model(inputs=inputs, outputs=output1)"
   ]
  },
  {
   "cell_type": "code",
   "execution_count": null,
   "metadata": {},
   "outputs": [],
   "source": [
    "b = model(tf.convert_to_tensor(a, dtype=tf.float32))"
   ]
  },
  {
   "cell_type": "code",
   "execution_count": null,
   "metadata": {},
   "outputs": [],
   "source": [
    "out = K.get_value(b)"
   ]
  },
  {
   "cell_type": "code",
   "execution_count": null,
   "metadata": {},
   "outputs": [],
   "source": [
    "out[0].sum(axis=1)"
   ]
  },
  {
   "cell_type": "code",
   "execution_count": null,
   "metadata": {},
   "outputs": [],
   "source": [
    "print(out.shape)\n",
    "print(out)\n"
   ]
  },
  {
   "cell_type": "markdown",
   "metadata": {},
   "source": [
    "# Pytorch PHIAF"
   ]
  },
  {
   "cell_type": "code",
   "execution_count": null,
   "metadata": {},
   "outputs": [],
   "source": [
    "# -*- coding: utf-8 -*-\n",
    "import pandas as pd\n",
    "import warnings\n",
    "warnings.filterwarnings(\"ignore\")\n",
    "import numpy as np    \n",
    "import random \n",
    "random.seed(1)\n",
    "from metrics import scores\n",
    "from sklearn.model_selection import KFold\n",
    "import math\n",
    "from sklearn.model_selection import StratifiedKFold\n",
    "\n",
    "from CNNModel import *\n",
    "from torch.utils.data import Dataset, DataLoader\n",
    "from tensorboardX import \n",
    "\n",
    "EPOCHS=300\n",
    "INIT_LR=1e-3\n",
    "\n",
    "class ImageDataset(Dataset):\n",
    "    def __init__(self, dna, pro, y):\n",
    "        self.dna = dna\n",
    "        self.pro = pro\n",
    "        self.y = y\n",
    "        \n",
    "    def __len__(self):\n",
    "        return len(self.y)\n",
    "\n",
    "    def __getitem__(self, idx):\n",
    "        return self.dna[idx], self.pro[idx], self.y[idx]\n",
    "\n",
    "def reshapes(X_en_tra,X_pr_tra,X_en_val,X_pr_val):\n",
    "    sq=int(math.sqrt(X_en_tra.shape[1]))\n",
    "    if pow(sq,2)==X_en_tra.shape[1]:\n",
    "        X_en_tra2=X_en_tra.reshape((-1,sq,sq))\n",
    "        X_pr_tra2=X_pr_tra.reshape((-1,sq,sq))\n",
    "        X_en_val2=X_en_val.reshape((-1,sq,sq))\n",
    "        X_pr_val2=X_pr_val.reshape((-1,sq,sq))\n",
    "    else:\n",
    "        X_en_tra2=np.concatenate((X_en_tra,np.zeros((X_en_tra.shape[0],int(pow(sq+1,2)-X_en_tra.shape[1])))),\n",
    "                                  axis=1).reshape((-1,sq+1,sq+1))\n",
    "        X_pr_tra2=np.concatenate((X_pr_tra,np.zeros((X_pr_tra.shape[0],int(pow(sq+1,2)-X_pr_tra.shape[1])))),\n",
    "                                  axis=1).reshape((-1,sq+1,sq+1))\n",
    "        X_en_val2=np.concatenate((X_en_val,np.zeros((X_en_val.shape[0],int(pow(sq+1,2)-X_en_val.shape[1])))),\n",
    "                                  axis=1).reshape((-1,sq+1,sq+1))\n",
    "        X_pr_val2=np.concatenate((X_pr_val,np.zeros((X_pr_val.shape[0],int(pow(sq+1,2)-X_pr_val.shape[1])))),\n",
    "                                  axis=1).reshape((-1,sq+1,sq+1))\n",
    "    return X_en_tra2, X_pr_tra2, X_en_val2, X_pr_val2\n",
    "\n",
    "def obtainfeatures(data,file_path1,file_path2,strs):\n",
    "    phage_features=[]\n",
    "    host_features=[]\n",
    "    labels=[]\n",
    "    for i in data:\n",
    "        phage_features.append(np.loadtxt(file_path1+i[0]+strs).tolist())\n",
    "        host_features.append(np.loadtxt(file_path2+i[1].split('.')[0]+strs).tolist())\n",
    "        labels.append(i[-1])\n",
    "    return np.array(phage_features), np.array(host_features), np.array(labels)\n",
    "\n",
    "def obtain_neg(X_tra,X_val):    \n",
    "    X_tra_pos=[mm for mm in X_tra if mm[2]==1]\n",
    "    X_neg=[]\n",
    "    training_neg=[]\n",
    "    phage=list(set([mm[0]for mm in X_tra_pos]))\n",
    "    host=list(set([mm[1]for mm in X_tra_pos]))\n",
    "    for p in phage:\n",
    "        for h in host:\n",
    "            if str(p)+','+str(h) in X_neg:\n",
    "                continue\n",
    "            else:\n",
    "                training_neg.append([p,h,0])\n",
    "    return random.sample(training_neg,len(X_tra_pos))\n",
    "\n",
    "result_all=[]\n",
    "pred_all=[]\n",
    "test_y_all=[]\n",
    "\n",
    "data1=pd.read_csv('../data/data_pos_neg.txt',header=None,sep=',')\n",
    "data1=data1[data1[2]==1]\n",
    "allinter=[str(data1.loc[i,0])+','+str(data1.loc[i,1]) for i in data1.index]\n",
    "skf = StratifiedKFold(n_splits=5, shuffle=True, random_state=1)\n",
    "training=pd.read_csv('../data/data_pos_neg.txt',header=None,sep=',').values.tolist()\n",
    "training_tar = [tt[2] for tt in training]\n",
    "for train_index, test_index in skf.split(training, training_tar): \n",
    "    ###obtain data\n",
    "    X_tra=[training[ii] for ii in train_index if training[ii][2] == 1]\n",
    "    X_val=[training[ii] for ii in test_index]\n",
    "    neg_select=obtain_neg(X_tra,X_val)  ##add extra negative samples\n",
    "    X_phage_tra_dna,X_host_tra_dna,y_tra=obtainfeatures(X_tra+neg_select,'../data/phage_dna_norm_features/','../data/host_dna_norm_features/','.txt')\n",
    "    X_phage_val_dna,X_host_val_dna,y_val=obtainfeatures(X_val,'../data/phage_dna_norm_features/','../data/host_dna_norm_features/','.txt')\n",
    "    X_phage_tra_pro,X_host_tra_pro,_=obtainfeatures(X_tra+neg_select,'../data/phage_protein_normfeatures/','../data/host_protein_normfeatures/','.txt')\n",
    "    X_phage_val_pro,X_host_val_pro,_=obtainfeatures(X_val,'../data/phage_protein_normfeatures/','../data/host_protein_normfeatures/','.txt')\n",
    "    \n",
    "    # Reshapes to image -> [bs, c, h, w]\n",
    "    X_phage_tra_dna3,X_host_tra_dna3,X_phage_val_dna3,X_host_val_dna3=reshapes(X_phage_tra_dna,X_host_tra_dna,X_phage_val_dna,X_host_val_dna)\n",
    "    X_phage_tra_pro3,X_host_tra_pro3,X_phage_val_pro3,X_host_val_pro3=reshapes(X_phage_tra_pro,X_host_tra_pro,X_phage_val_pro,X_host_val_pro)\n",
    "    X_dna=np.array([X_phage_tra_dna3,X_host_tra_dna3]).transpose(1,0,2,3)\n",
    "    X_pro=np.array([X_phage_tra_pro3,X_host_tra_pro3]).transpose(1,0,2,3)\n",
    "    \n",
    "    # Train\n",
    "    train_dataset = ImageDataset(torch.tensor(X_dna), torch.tensor(X_pro), torch.tensor(y_tra))\n",
    "    train_loader = DataLoader(train_dataset, batch_size=8, shuffle=True)\n",
    "    \n",
    "    \n",
    "\n",
    "\n",
    "\n"
   ]
  },
  {
   "cell_type": "code",
   "execution_count": 1,
   "metadata": {},
   "outputs": [
    {
     "name": "stderr",
     "output_type": "stream",
     "text": [
      "/home/misaki/miniconda3/envs/ups/lib/python3.9/site-packages/tqdm/auto.py:22: TqdmWarning: IProgress not found. Please update jupyter and ipywidgets. See https://ipywidgets.readthedocs.io/en/stable/user_install.html\n",
      "  from .autonotebook import tqdm as notebook_tqdm\n"
     ]
    }
   ],
   "source": [
    "from CNNModel import *\n",
    "\n",
    "in_channels = 2\n",
    "out_channels = 32\n",
    "kernel_size = 3\n",
    "dna_pool_size = 3\n",
    "pro_pool_size = 2\n",
    "net = PHIAFModel(in_channels, out_channels, kernel_size, dna_pool_size, pro_pool_size)"
   ]
  },
  {
   "cell_type": "code",
   "execution_count": 2,
   "metadata": {},
   "outputs": [],
   "source": [
    "import torch\n",
    "X_dna = torch.rand(size=(4,2,19,19))\n",
    "X_pro = torch.rand(size=(4,2,13,13))\n",
    "out = net(X_dna, X_pro)"
   ]
  },
  {
   "cell_type": "code",
   "execution_count": 3,
   "metadata": {},
   "outputs": [
    {
     "data": {
      "text/plain": [
       "torch.float32"
      ]
     },
     "execution_count": 3,
     "metadata": {},
     "output_type": "execute_result"
    }
   ],
   "source": [
    "X_dna.dtype"
   ]
  }
 ],
 "metadata": {
  "interpreter": {
   "hash": "f10b270c2d05d9e0d37298ae3c437d20e42faf55e6b75ce5726833064e4dba34"
  },
  "kernelspec": {
   "display_name": "Python 3.7.13 ('PHIAF')",
   "language": "python",
   "name": "python3"
  },
  "language_info": {
   "codemirror_mode": {
    "name": "ipython",
    "version": 3
   },
   "file_extension": ".py",
   "mimetype": "text/x-python",
   "name": "python",
   "nbconvert_exporter": "python",
   "pygments_lexer": "ipython3",
   "version": "3.9.13"
  },
  "orig_nbformat": 4
 },
 "nbformat": 4,
 "nbformat_minor": 2
}
